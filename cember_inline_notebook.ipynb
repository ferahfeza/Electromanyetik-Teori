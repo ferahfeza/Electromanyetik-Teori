{
 "cells": [
  {
   "cell_type": "code",
   "execution_count": 2,
   "id": "6b683864",
   "metadata": {},
   "outputs": [],
   "source": [
    "import numpy as np\n",
    "import scipy as sp\n",
    "import sympy as smp\n",
    "import matplotlib.pyplot as plt\n",
    "from scipy.integrate import quad\n",
    "from scipy.integrate import cumulative_trapezoid\n",
    "from pylab import plot, xlabel, ylabel, suptitle, legend, show"
   ]
  },
  {
   "cell_type": "markdown",
   "id": "2304049c-332e-43ba-a17b-7c96bb00cc47",
   "metadata": {},
   "source": [
    "<style>\n",
    ".center {\n",
    "  display: block;\n",
    "  margin-left: auto;\n",
    "  margin-right: auto;\n",
    "  width: 50%;\n",
    "}\n",
    "</style>\n",
    "\n",
    "## Çembersel Akım Çevriminin Düzlemindeki Bir Noktada Oluşturduğu Alan Şiddeti\n",
    "\n",
    "<img src=\"cember_inline.jpg\" class=\"center\" style=\"width:500px;\">\n",
    "\n",
    "$$\\mathbf{B}=\\dfrac{\\mu_0}{4\\pi}\\int_C \\dfrac{I\\mathrm{d}\\mathbf{l}\\times \\mathbf{R}}{R^3}$$\n",
    "\n",
    "$$\\mathbf{R}=r_{\\mathbf{ax}}-(a\\cos\\theta\\mathbf{a}_x+a\\sin\\theta\\mathbf{a}_y)=(r-a\\cos\\theta)\\mathbf{a}_x-(a\\sin\\theta)\\mathbf{a}_x$$\n",
    "\n",
    "$$R^2=(r-a\\cos\\theta)^2+a^2\\sin^2\\theta$$\n",
    "\n",
    "$$R=\\sqrt{a^2+r^2-2ar\\cos\\theta}$$\n",
    "\n",
    "$$\\mathrm{d}\\mathbf{l}=a\\mathrm{d}\\theta(-\\sin\\theta\\mathbf{a}_x+\\cos\\theta\\mathbf{a}_y)$$\n",
    " \n",
    "$$\\mathrm{d}\\mathbf{l}\\times \\mathbf{R}=a\n",
    "\\begin{vmatrix}\n",
    "     \\mathbf{a}_x & \\mathbf{a}_y & \\mathbf{a}_z\\\\ \n",
    "     -\\sin\\theta & \\cos\\theta & 0\\\\\n",
    "     (r-a\\cos\\theta) & (-a\\sin\\theta) & 0\n",
    "\\end{vmatrix} \\mathrm{d}\\theta\n",
    "$$\n",
    "\n",
    "$$\\mathrm{d}\\mathbf{l}\\times \\mathbf{R}=\\left(a^2\\sin^2\\theta-a\\cos\\theta(r-a\\cos\\theta) \\right)\\mathrm{d}\\theta_{\\mathbf{az}}=(a^2-ar\\cos\\theta)\\mathrm{d}\\theta{\\mathbf{a}}_z$$\n",
    "\n",
    "$$\\mathbf{B}=\\dfrac{2\\mu_0 I a}{4\\pi}\\int_0^\\pi\\dfrac{a-r\\cos\\theta}{(a^2+r^2-2ar\\cos\\theta)^{3/2}}\\mathrm{d}\\theta{\\mathbf{a}}_z$$\n",
    "\n",
    "$$\\theta=\\pi-2\\phi$$\n",
    "\n",
    "$$\\mathrm{d}\\theta=-2\\mathrm{d}\\phi$$\n",
    "\n",
    "$$\\cos\\theta=\\cos(\\pi-2\\phi)=\\cos(2\\phi-\\pi)=-\\cos(2\\phi)=2\\sin^2(\\phi)-1$$\n",
    "\n",
    "$$\\mathbf{B}=\\dfrac{2\\mu_0 I a}{4\\pi}\\int_{\\pi/2}^0 \\dfrac{a-2r\\sin^2\\phi+r}{\\left(r^2-2ra(2\\sin^2\\phi-1)+a^2\\right)^{3/2}}(-2\\mathrm{d}\\phi){\\mathbf{a}}_z$$\n",
    "\n",
    "$$\\mathbf{B}=\\dfrac{\\mu_0 I a}{\\pi}\\int_0^{\\pi/2} \\dfrac{a-2r\\sin^2\\phi+r}{\\left(r^2-2ra(2\\sin^2\\phi-1)+a^2\\right)^{3/2}}\\mathrm{d}\\phi{\\mathbf{a}}_z$$\n",
    "\n",
    "$$\\mathbf{B}=\\dfrac{\\mu_0 I a}{\\pi}\\int_0^{\\pi/2} \\dfrac{a-2r\\sin^2\\phi+r}{\\left((r+a)^2-4ra\\sin^2\\phi\\right)^{3/2}}\\mathrm{d}\\phi{\\mathbf{a}}_z$$\n",
    "\n",
    "$$\\mathbf{B}=\\dfrac{\\mu_0 I a}{\\pi}\\int_0^{\\pi/2} \\dfrac{a-2r\\sin^2\\phi+r}{\\left((r+a)^2(1-\\dfrac{4ra}{(r+a)^2}\\sin^2\\phi\\right)^{3/2}}\\mathrm{d}\\phi{\\mathbf{a}}_z$$\n",
    "\n",
    "$$\\boxed{\\mathbf{B}=\\dfrac{\\mu_0 I}{\\pi(r+a)^3}\\int_0^{\\pi/2} \\dfrac{a^2-2ra\\sin^2\\phi+ra}{(1-k^2\\sin^2\\phi)^{3/2}}\\mathrm{d}\\phi{\\mathbf{a}}_z}$$\n",
    "\n",
    "$$k=\\dfrac{2\\sqrt{ra}}{r+a}$$\n",
    "\n",
    "$$ \\begin{aligned}\n",
    "    \\mathrm{d}\\mathbf{B}=\n",
    "    \\end{aligned}$$\n",
    "\n",
    "\n"
   ]
  },
  {
   "cell_type": "code",
   "execution_count": 3,
   "id": "fdd90396",
   "metadata": {},
   "outputs": [
    {
     "name": "stdout",
     "output_type": "stream",
     "text": [
      "1.4181666035221097e-06\n"
     ]
    },
    {
     "data": {
      "image/png": "[encoded data removed]",
      "text/plain": [
       "<Figure size 640x480 with 1 Axes>"
      ]
     },
     "metadata": {},
     "output_type": "display_data"
    }
   ],
   "source": [
    "x,r,a = smp.symbols('x r a', real=True)\n",
    "r, a = 0.5, 1\n",
    "m0 = 4E-7*np.pi\n",
    "ii = 1\n",
    "B = np.zeros(21)\n",
    "B = B.tolist()\n",
    "for i in range(0,21,1):\n",
    "    r = i/10\n",
    "    if r == 1:\n",
    "        r = 0.99      \n",
    "    k=2*smp.sqrt(r*a)/(r+a)\n",
    "\n",
    "    f = lambda x:(a**2-2*r*a*smp.sin(x)**2+r*a) / (1-k**2*smp.sin(x)**2)**(3/2)\n",
    "\n",
    "\n",
    "    I, err = quad(f, 0, np.pi/2)\n",
    "\n",
    "    B[i] = I*(m0*ii)/(np.pi*(r+a)**3)\n",
    "print(B[8])\n",
    "xs = [x for x in range(len(B))]\n",
    "plt.plot(xs,B)\n",
    "plt.show()\n",
    "\n"
   ]
  },
  {
   "cell_type": "code",
   "execution_count": 4,
   "id": "34c2e4d2",
   "metadata": {},
   "outputs": [
    {
     "ename": "ModuleNotFoundError",
     "evalue": "No module named 'delaunay2D'",
     "output_type": "error",
     "traceback": [
      "\u001b[1;31m---------------------------------------------------------------------------\u001b[0m",
      "\u001b[1;31mModuleNotFoundError\u001b[0m                       Traceback (most recent call last)",
      "Cell \u001b[1;32mIn[4], line 2\u001b[0m\n\u001b[0;32m      1\u001b[0m \u001b[38;5;28;01mimport\u001b[39;00m \u001b[38;5;21;01mnumpy\u001b[39;00m \u001b[38;5;28;01mas\u001b[39;00m \u001b[38;5;21;01mnp\u001b[39;00m\n\u001b[1;32m----> 2\u001b[0m \u001b[38;5;28;01mfrom\u001b[39;00m \u001b[38;5;21;01mdelaunay2D\u001b[39;00m \u001b[38;5;28;01mimport\u001b[39;00m Delaunay2D\n\u001b[0;32m      3\u001b[0m \u001b[38;5;28;01mfrom\u001b[39;00m \u001b[38;5;21;01mscipy\u001b[39;00m\u001b[38;5;21;01m.\u001b[39;00m\u001b[38;5;21;01mspatial\u001b[39;00m \u001b[38;5;28;01mimport\u001b[39;00m Delaunay\n\u001b[0;32m      4\u001b[0m \u001b[38;5;28;01mimport\u001b[39;00m \u001b[38;5;21;01mmatplotlib\u001b[39;00m\u001b[38;5;21;01m.\u001b[39;00m\u001b[38;5;21;01mpyplot\u001b[39;00m \u001b[38;5;28;01mas\u001b[39;00m \u001b[38;5;21;01mplt\u001b[39;00m\n",
      "\u001b[1;31mModuleNotFoundError\u001b[0m: No module named 'delaunay2D'"
     ]
    }
   ],
   "source": [
    "import numpy as np\n",
    "from delaunay2D import Delaunay2D\n",
    "from scipy.spatial import Delaunay\n",
    "import matplotlib.pyplot as plt\n",
    "import codecs\n",
    "\n",
    "filecp = codecs.open('TE1.DAT', encoding ='utf-8')\n",
    "file_data = np.loadtxt(filecp, usecols=(0,1),skiprows=1)\n",
    "\n",
    "#print(file_data)\n",
    "x = file_data[:,0]\n",
    "print(x)\n",
    "\n",
    "y = file_data[:,1]\n",
    "print(y)\n",
    "\n",
    "seeds = np.vstack((x, y)).T\n",
    "print(seeds)\n",
    "\n",
    "#zip(x,y)\n",
    "\n",
    "# Create a random set of points\n",
    "\n",
    "\n",
    "# Create Delaunay Triangulation and insert points one by one\n",
    "dt = Delaunay2D()\n",
    "for s in seeds:\n",
    "    dt.addPoint(s)\n",
    "\n",
    "tri = Delaunay(seeds)\n",
    "\n",
    "# Dump points and triangles to console\n",
    "print(\"Input points:\\n\", seeds)\n",
    "print (\"Delaunay triangles:\\n\", dt.exportTriangles())\n",
    "\n",
    "plt.triplot(seeds[:,0], seeds[:,1], tri.simplices)\n",
    "plt.plot(seeds[:,0], seeds[:,1], 'o')\n",
    "plt.show()\n",
    "\n"
   ]
  }
 ],
 "metadata": {
  "kernelspec": {
   "display_name": "Python 3 (ipykernel)",
   "language": "python",
   "name": "python3"
  },
  "language_info": {
   "codemirror_mode": {
    "name": "ipython",
    "version": 3
   },
   "file_extension": ".py",
   "mimetype": "text/x-python",
   "name": "python",
   "nbconvert_exporter": "python",
   "pygments_lexer": "ipython3",
   "version": "3.12.1"
  }
 },
 "nbformat": 4,
 "nbformat_minor": 5
}
